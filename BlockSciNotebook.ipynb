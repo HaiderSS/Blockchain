{
  "nbformat": 4,
  "nbformat_minor": 0,
  "metadata": {
    "colab": {
      "name": "BlockSciNotebook.ipynb",
      "provenance": [],
      "authorship_tag": "ABX9TyPchbYg8fsoHFnaeBunYUkB",
      "include_colab_link": true
    },
    "kernelspec": {
      "name": "python3",
      "display_name": "Python 3"
    }
  },
  "cells": [
    {
      "cell_type": "markdown",
      "metadata": {
        "id": "view-in-github",
        "colab_type": "text"
      },
      "source": [
        "<a href=\"https://colab.research.google.com/github/HaiderSS/Blockchain/blob/master/BlockSciNotebook.ipynb\" target=\"_parent\"><img src=\"https://colab.research.google.com/assets/colab-badge.svg\" alt=\"Open In Colab\"/></a>"
      ]
    },
    {
      "cell_type": "markdown",
      "metadata": {
        "id": "3LP9Po_dt1Yc",
        "colab_type": "text"
      },
      "source": [
        "#Mounting to google drive"
      ]
    },
    {
      "cell_type": "code",
      "metadata": {
        "id": "KuHUc05ctHd7",
        "colab_type": "code",
        "colab": {}
      },
      "source": [
        "from google.colab import drive\n",
        "drive.mount('/content/drive')"
      ],
      "execution_count": 0,
      "outputs": []
    },
    {
      "cell_type": "code",
      "metadata": {
        "id": "IIHWGvC-taEf",
        "colab_type": "code",
        "colab": {}
      },
      "source": [
        "# for finding an traversing path\n",
        "import os \n",
        "os.getcwd()"
      ],
      "execution_count": 0,
      "outputs": []
    },
    {
      "cell_type": "code",
      "metadata": {
        "id": "kgWC1WsYthHW",
        "colab_type": "code",
        "colab": {}
      },
      "source": [
        "# to save settings of google colab\n",
        "!pip freeze --local > /content/gdrive/My\\ Drive/colab_installed.txt"
      ],
      "execution_count": 0,
      "outputs": []
    },
    {
      "cell_type": "code",
      "metadata": {
        "id": "tLJWSh3jtprl",
        "colab_type": "code",
        "colab": {}
      },
      "source": [
        "# to restore\n",
        "!pip install --upgrade --force-reinstall 'colab_installed.txt'"
      ],
      "execution_count": 0,
      "outputs": []
    },
    {
      "cell_type": "code",
      "metadata": {
        "id": "Wh-Vqh23uC2O",
        "colab_type": "code",
        "colab": {}
      },
      "source": [
        "# to remove folders in terminal\n",
        "import shutil\n",
        "shutil.rmtree('BlockSci', ignore_errors=True)\n",
        "shutil.rmtree('release', ignore_errors=True)"
      ],
      "execution_count": 0,
      "outputs": []
    },
    {
      "cell_type": "markdown",
      "metadata": {
        "id": "szGOpUt7t404",
        "colab_type": "text"
      },
      "source": [
        "#BlocSci Installations"
      ]
    },
    {
      "cell_type": "code",
      "metadata": {
        "id": "05SqFvdPuX_u",
        "colab_type": "code",
        "colab": {}
      },
      "source": [
        "# to install Blocksci\n",
        "\n",
        "!sudo add-apt-repository ppa:ubuntu-toolchain-r/test -y\n",
        "!sudo apt-get update\n",
        "!sudo apt install cmake libtool autoconf libboost-filesystem-dev libboost-iostreams-dev \\\n",
        "libboost-serialization-dev libboost-thread-dev libboost-test-dev  libssl-dev libjsoncpp-dev \\\n",
        "libcurl4-openssl-dev libjsoncpp-dev libjsonrpccpp-dev libsnappy-dev zlib1g-dev libbz2-dev \\\n",
        "liblz4-dev libzstd-dev libjemalloc-dev libsparsehash-dev python3-dev python3-pip\n",
        "\n",
        "!git clone https://github.com/citp/BlockSci.git\n",
        "%cd BlockSci\n",
        "!mkdir release\n",
        "%cd release\n",
        "!CC=gcc-7 CXX=g++-7 cmake -DCMAKE_BUILD_TYPE=Release ..\n",
        "!make\n",
        "!sudo make install\n",
        "\n",
        "%cd ..\n",
        "!CC=gcc-7 CXX=g++-7 sudo -H pip3 install -e blockscipy"
      ],
      "execution_count": 0,
      "outputs": []
    },
    {
      "cell_type": "code",
      "metadata": {
        "id": "WTyygYDWugFn",
        "colab_type": "code",
        "colab": {}
      },
      "source": [
        "!pip install ndjson\n",
        "!apt update\n",
        "!apt install -y graphviz\n",
        "!conda install -y graphviz\n",
        "!conda install -y python-graphviz"
      ],
      "execution_count": 0,
      "outputs": []
    }
  ]
}